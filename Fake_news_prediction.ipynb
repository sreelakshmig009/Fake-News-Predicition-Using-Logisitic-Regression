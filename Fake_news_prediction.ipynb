{
  "nbformat": 4,
  "nbformat_minor": 0,
  "metadata": {
    "colab": {
      "name": "Fake news prediction.ipynb",
      "provenance": [],
      "collapsed_sections": [],
      "authorship_tag": "ABX9TyOq2+0fDcO5DkbVtXYw/E+7",
      "include_colab_link": true
    },
    "kernelspec": {
      "display_name": "Python 3",
      "name": "python3"
    },
    "language_info": {
      "name": "python"
    }
  },
  "cells": [
    {
      "cell_type": "markdown",
      "metadata": {
        "id": "view-in-github",
        "colab_type": "text"
      },
      "source": [
        "<a href=\"https://colab.research.google.com/github/sreelakshmig009/Fake-News-Predicition-Using-Logisitic-Regression/blob/main/Fake_news_prediction.ipynb\" target=\"_parent\"><img src=\"https://colab.research.google.com/assets/colab-badge.svg\" alt=\"Open In Colab\"/></a>"
      ]
    },
    {
      "cell_type": "markdown",
      "metadata": {
        "id": "80v9-W1JFAfy"
      },
      "source": [
        "**Importing the dependencies**\n",
        "\n"
      ]
    },
    {
      "cell_type": "code",
      "metadata": {
        "id": "q5lxASja__SH"
      },
      "source": [
        "import numpy as np\n",
        "import pandas as pd\n",
        "import re\n",
        "from nltk.corpus import stopwords\n",
        "from nltk.stem.porter import PorterStemmer\n",
        "from sklearn.feature_extraction.text import TfidfVectorizer\n",
        "from sklearn.model_selection import train_test_split\n",
        "from sklearn.linear_model import LogisticRegression\n",
        "from sklearn.metrics import accuracy_score"
      ],
      "execution_count": 12,
      "outputs": []
    },
    {
      "cell_type": "code",
      "metadata": {
        "colab": {
          "base_uri": "https://localhost:8080/"
        },
        "id": "Gwe8vyb_k0A-",
        "outputId": "30ec40d6-f092-4472-c191-b93a1184ef06"
      },
      "source": [
        "import nltk\n",
        "nltk.download('stopwords')"
      ],
      "execution_count": 13,
      "outputs": [
        {
          "output_type": "stream",
          "text": [
            "[nltk_data] Downloading package stopwords to /root/nltk_data...\n",
            "[nltk_data]   Unzipping corpora/stopwords.zip.\n"
          ],
          "name": "stdout"
        },
        {
          "output_type": "execute_result",
          "data": {
            "text/plain": [
              "True"
            ]
          },
          "metadata": {
            "tags": []
          },
          "execution_count": 13
        }
      ]
    },
    {
      "cell_type": "markdown",
      "metadata": {
        "id": "XWcebD01l1wQ"
      },
      "source": [
        "**Data Pre-Processing**"
      ]
    },
    {
      "cell_type": "code",
      "metadata": {
        "id": "8STVsOYsl6tc"
      },
      "source": [
        "#load the dataset into pandas dataframe\n",
        "news_dataset = pd.read_csv('/content/train.csv')"
      ],
      "execution_count": 2,
      "outputs": []
    },
    {
      "cell_type": "code",
      "metadata": {
        "colab": {
          "base_uri": "https://localhost:8080/"
        },
        "id": "m2vPIaP5DXRE",
        "outputId": "e0268fd3-fb26-456e-c9a1-7a322d662f97"
      },
      "source": [
        "#loading the number of rows(number of news articles) and coloumns in the dataset\n",
        "news_dataset.shape\n",
        "# this pre-trained dataset from kaggle has 20,800 articles(rows) and 5 columns"
      ],
      "execution_count": 3,
      "outputs": [
        {
          "output_type": "execute_result",
          "data": {
            "text/plain": [
              "(20800, 5)"
            ]
          },
          "metadata": {
            "tags": []
          },
          "execution_count": 3
        }
      ]
    },
    {
      "cell_type": "code",
      "metadata": {
        "colab": {
          "base_uri": "https://localhost:8080/",
          "height": 195
        },
        "id": "JuiwBt8bDzFw",
        "outputId": "95f9afcd-1f0d-4758-8bde-a76d7e8d0370"
      },
      "source": [
        "#print the first five rows of the dataset\n",
        "news_dataset.head()"
      ],
      "execution_count": 4,
      "outputs": [
        {
          "output_type": "execute_result",
          "data": {
            "text/html": [
              "<div>\n",
              "<style scoped>\n",
              "    .dataframe tbody tr th:only-of-type {\n",
              "        vertical-align: middle;\n",
              "    }\n",
              "\n",
              "    .dataframe tbody tr th {\n",
              "        vertical-align: top;\n",
              "    }\n",
              "\n",
              "    .dataframe thead th {\n",
              "        text-align: right;\n",
              "    }\n",
              "</style>\n",
              "<table border=\"1\" class=\"dataframe\">\n",
              "  <thead>\n",
              "    <tr style=\"text-align: right;\">\n",
              "      <th></th>\n",
              "      <th>id</th>\n",
              "      <th>title</th>\n",
              "      <th>author</th>\n",
              "      <th>text</th>\n",
              "      <th>label</th>\n",
              "    </tr>\n",
              "  </thead>\n",
              "  <tbody>\n",
              "    <tr>\n",
              "      <th>0</th>\n",
              "      <td>0</td>\n",
              "      <td>House Dem Aide: We Didn’t Even See Comey’s Let...</td>\n",
              "      <td>Darrell Lucus</td>\n",
              "      <td>House Dem Aide: We Didn’t Even See Comey’s Let...</td>\n",
              "      <td>1</td>\n",
              "    </tr>\n",
              "    <tr>\n",
              "      <th>1</th>\n",
              "      <td>1</td>\n",
              "      <td>FLYNN: Hillary Clinton, Big Woman on Campus - ...</td>\n",
              "      <td>Daniel J. Flynn</td>\n",
              "      <td>Ever get the feeling your life circles the rou...</td>\n",
              "      <td>0</td>\n",
              "    </tr>\n",
              "    <tr>\n",
              "      <th>2</th>\n",
              "      <td>2</td>\n",
              "      <td>Why the Truth Might Get You Fired</td>\n",
              "      <td>Consortiumnews.com</td>\n",
              "      <td>Why the Truth Might Get You Fired October 29, ...</td>\n",
              "      <td>1</td>\n",
              "    </tr>\n",
              "    <tr>\n",
              "      <th>3</th>\n",
              "      <td>3</td>\n",
              "      <td>15 Civilians Killed In Single US Airstrike Hav...</td>\n",
              "      <td>Jessica Purkiss</td>\n",
              "      <td>Videos 15 Civilians Killed In Single US Airstr...</td>\n",
              "      <td>1</td>\n",
              "    </tr>\n",
              "    <tr>\n",
              "      <th>4</th>\n",
              "      <td>4</td>\n",
              "      <td>Iranian woman jailed for fictional unpublished...</td>\n",
              "      <td>Howard Portnoy</td>\n",
              "      <td>Print \\nAn Iranian woman has been sentenced to...</td>\n",
              "      <td>1</td>\n",
              "    </tr>\n",
              "  </tbody>\n",
              "</table>\n",
              "</div>"
            ],
            "text/plain": [
              "   id  ... label\n",
              "0   0  ...     1\n",
              "1   1  ...     0\n",
              "2   2  ...     1\n",
              "3   3  ...     1\n",
              "4   4  ...     1\n",
              "\n",
              "[5 rows x 5 columns]"
            ]
          },
          "metadata": {
            "tags": []
          },
          "execution_count": 4
        }
      ]
    },
    {
      "cell_type": "code",
      "metadata": {
        "colab": {
          "base_uri": "https://localhost:8080/"
        },
        "id": "I1zbM_fkELsZ",
        "outputId": "f9eb8bdc-3782-45c4-d95a-c463356d623d"
      },
      "source": [
        "# counting the number of missing values in the dataset\n",
        "news_dataset.isnull().sum()"
      ],
      "execution_count": 5,
      "outputs": [
        {
          "output_type": "execute_result",
          "data": {
            "text/plain": [
              "id           0\n",
              "title      558\n",
              "author    1957\n",
              "text        39\n",
              "label        0\n",
              "dtype: int64"
            ]
          },
          "metadata": {
            "tags": []
          },
          "execution_count": 5
        }
      ]
    },
    {
      "cell_type": "code",
      "metadata": {
        "id": "yJd1UmyjEuFL"
      },
      "source": [
        "# replace the null values with empty string\n",
        "# as we have a large dataset, we're doing this process;need not be applied in case of a small dataset\n",
        "news_dataset = news_dataset.fillna('')"
      ],
      "execution_count": 6,
      "outputs": []
    },
    {
      "cell_type": "code",
      "metadata": {
        "id": "rhutiNhYBPzy"
      },
      "source": [
        "# storing the combined value of title and author under a new column called content\n",
        "news_dataset['content'] = news_dataset['author']+'  '+news_dataset['title']"
      ],
      "execution_count": 30,
      "outputs": []
    },
    {
      "cell_type": "code",
      "metadata": {
        "colab": {
          "base_uri": "https://localhost:8080/"
        },
        "id": "XAgqjn16wQjp",
        "outputId": "69d758c4-c00b-471b-f2ed-d42ba1c91291"
      },
      "source": [
        "# this is how our new column content would be\n",
        "print(news_dataset['content'])"
      ],
      "execution_count": 31,
      "outputs": [
        {
          "output_type": "stream",
          "text": [
            "0        Darrell Lucus  House Dem Aide: We Didn’t Even ...\n",
            "1        Daniel J. Flynn  FLYNN: Hillary Clinton, Big W...\n",
            "2        Consortiumnews.com  Why the Truth Might Get Yo...\n",
            "3        Jessica Purkiss  15 Civilians Killed In Single...\n",
            "4        Howard Portnoy  Iranian woman jailed for ficti...\n",
            "                               ...                        \n",
            "20795    Jerome Hudson  Rapper T.I.: Trump a ’Poster Ch...\n",
            "20796    Benjamin Hoffman  N.F.L. Playoffs: Schedule, M...\n",
            "20797    Michael J. de la Merced and Rachel Abrams  Mac...\n",
            "20798    Alex Ansary  NATO, Russia To Hold Parallel Exe...\n",
            "20799             David Swanson  What Keeps the F-35 Alive\n",
            "Name: content, Length: 20800, dtype: object\n"
          ],
          "name": "stdout"
        }
      ]
    },
    {
      "cell_type": "code",
      "metadata": {
        "id": "PkFjc25DwcPk"
      },
      "source": [
        "# seperating the label column and storing it in a seperate label\n",
        "X = news_dataset.drop(columns = 'label',axis = 1)\n",
        "# for removing a row, axis = 0 and for a column ,axis = 1\n",
        "Y = news_dataset['label']"
      ],
      "execution_count": 32,
      "outputs": []
    },
    {
      "cell_type": "code",
      "metadata": {
        "colab": {
          "base_uri": "https://localhost:8080/"
        },
        "id": "SvbaDsAaxYFK",
        "outputId": "7f08cdf5-8866-421f-b170-da7d28892440"
      },
      "source": [
        "print(X) # has all the other values except label(when we print it,not all will be displayed due to space constraint)\n",
        "print(Y) # only has label values"
      ],
      "execution_count": 33,
      "outputs": [
        {
          "output_type": "stream",
          "text": [
            "          id  ...                                            content\n",
            "0          0  ...  Darrell Lucus  House Dem Aide: We Didn’t Even ...\n",
            "1          1  ...  Daniel J. Flynn  FLYNN: Hillary Clinton, Big W...\n",
            "2          2  ...  Consortiumnews.com  Why the Truth Might Get Yo...\n",
            "3          3  ...  Jessica Purkiss  15 Civilians Killed In Single...\n",
            "4          4  ...  Howard Portnoy  Iranian woman jailed for ficti...\n",
            "...      ...  ...                                                ...\n",
            "20795  20795  ...  Jerome Hudson  Rapper T.I.: Trump a ’Poster Ch...\n",
            "20796  20796  ...  Benjamin Hoffman  N.F.L. Playoffs: Schedule, M...\n",
            "20797  20797  ...  Michael J. de la Merced and Rachel Abrams  Mac...\n",
            "20798  20798  ...  Alex Ansary  NATO, Russia To Hold Parallel Exe...\n",
            "20799  20799  ...           David Swanson  What Keeps the F-35 Alive\n",
            "\n",
            "[20800 rows x 5 columns]\n",
            "0        1\n",
            "1        0\n",
            "2        1\n",
            "3        1\n",
            "4        1\n",
            "        ..\n",
            "20795    0\n",
            "20796    0\n",
            "20797    0\n",
            "20798    1\n",
            "20799    1\n",
            "Name: label, Length: 20800, dtype: int64\n"
          ],
          "name": "stdout"
        }
      ]
    },
    {
      "cell_type": "markdown",
      "metadata": {
        "id": "4Qw6hoXGygVA"
      },
      "source": [
        "**Stemming**\n"
      ]
    },
    {
      "cell_type": "code",
      "metadata": {
        "id": "YjFzyKCVzB9u"
      },
      "source": [
        "port_stem = PorterStemmer()"
      ],
      "execution_count": 34,
      "outputs": []
    },
    {
      "cell_type": "code",
      "metadata": {
        "id": "8treWms4zsCa"
      },
      "source": [
        "# this function is written to decrease code redundancy \n",
        "def stemming(content):\n",
        "  stemmed_content = re.sub('[^a-zA-Z ]',' ',content) # replace numbers or special characters with whitespace\n",
        "  stemmed_content = stemmed_content.lower() # convert the all stemmed data to lowercase for uniformity\n",
        "  stemmed_content = stemmed_content.split() # split and converted to list values\n",
        "  stemmed_content = [port_stem.stem(word) for word in stemmed_content if not word in stopwords.words('english')] # removes all the stopwords\n",
        "  stemmed_content = '  '.join(stemmed_content)\n",
        "  return stemmed_content "
      ],
      "execution_count": 35,
      "outputs": []
    },
    {
      "cell_type": "code",
      "metadata": {
        "id": "WRxbYRtZg5Gb"
      },
      "source": [
        "# applying the stemming function to the content column a.k.a function call\n",
        "news_dataset['content'] = news_dataset['content'].apply(stemming)"
      ],
      "execution_count": 36,
      "outputs": []
    },
    {
      "cell_type": "code",
      "metadata": {
        "colab": {
          "base_uri": "https://localhost:8080/"
        },
        "id": "fQHLH98LhcKE",
        "outputId": "d9773592-39e1-4aff-896c-97bea4763bda"
      },
      "source": [
        "print(news_dataset['content'])"
      ],
      "execution_count": 37,
      "outputs": [
        {
          "output_type": "stream",
          "text": [
            "0        darrel  lucu  hous  dem  aid  even  see  comey...\n",
            "1        daniel  j  flynn  flynn  hillari  clinton  big...\n",
            "2              consortiumnew  com  truth  might  get  fire\n",
            "3        jessica  purkiss  civilian  kill  singl  us  a...\n",
            "4        howard  portnoy  iranian  woman  jail  fiction...\n",
            "                               ...                        \n",
            "20795    jerom  hudson  rapper  trump  poster  child  w...\n",
            "20796    benjamin  hoffman  n  f  l  playoff  schedul  ...\n",
            "20797    michael  j  de  la  merc  rachel  abram  maci ...\n",
            "20798    alex  ansari  nato  russia  hold  parallel  ex...\n",
            "20799                        david  swanson  keep  f  aliv\n",
            "Name: content, Length: 20800, dtype: object\n"
          ],
          "name": "stdout"
        }
      ]
    },
    {
      "cell_type": "code",
      "metadata": {
        "colab": {
          "base_uri": "https://localhost:8080/"
        },
        "id": "lKoqgVc6uyGL",
        "outputId": "f912dc11-ed60-4e91-960e-8b64be9e1842"
      },
      "source": [
        "# seperating data and label after stemming\n",
        "X = news_dataset['content'].values\n",
        "Y = news_dataset['label'].values\n",
        "print(X)\n",
        "print(Y)"
      ],
      "execution_count": 38,
      "outputs": [
        {
          "output_type": "stream",
          "text": [
            "['darrel  lucu  hous  dem  aid  even  see  comey  letter  jason  chaffetz  tweet'\n",
            " 'daniel  j  flynn  flynn  hillari  clinton  big  woman  campu  breitbart'\n",
            " 'consortiumnew  com  truth  might  get  fire' ...\n",
            " 'michael  j  de  la  merc  rachel  abram  maci  said  receiv  takeov  approach  hudson  bay  new  york  time'\n",
            " 'alex  ansari  nato  russia  hold  parallel  exercis  balkan'\n",
            " 'david  swanson  keep  f  aliv']\n",
            "[1 0 1 ... 0 1 1]\n"
          ],
          "name": "stdout"
        }
      ]
    },
    {
      "cell_type": "markdown",
      "metadata": {
        "id": "g8i_Lx7CwHiv"
      },
      "source": [
        "**Vectorization**"
      ]
    },
    {
      "cell_type": "code",
      "metadata": {
        "id": "dffmz7unwRyU"
      },
      "source": [
        "vectorizer = TfidfVectorizer()# counts the number of times a particular word occurs in a text\n",
        "vectorizer.fit(X)\n",
        "# converting X to their respective feature vectors(no need to do this with Y as it is already numerical)\n",
        "X = vectorizer.transform(X)\n"
      ],
      "execution_count": 39,
      "outputs": []
    },
    {
      "cell_type": "code",
      "metadata": {
        "colab": {
          "base_uri": "https://localhost:8080/"
        },
        "id": "adPDGQIL1eUn",
        "outputId": "16864bde-cf03-4c56-d13c-2eaf9800ec32"
      },
      "source": [
        "print(X)"
      ],
      "execution_count": 40,
      "outputs": [
        {
          "output_type": "stream",
          "text": [
            "  (0, 15686)\t0.28485063562728646\n",
            "  (0, 13473)\t0.2565896679337957\n",
            "  (0, 8909)\t0.3635963806326075\n",
            "  (0, 8630)\t0.29212514087043684\n",
            "  (0, 7692)\t0.24785219520671603\n",
            "  (0, 7005)\t0.21874169089359144\n",
            "  (0, 4973)\t0.233316966909351\n",
            "  (0, 3792)\t0.2705332480845492\n",
            "  (0, 3600)\t0.3598939188262559\n",
            "  (0, 2959)\t0.2468450128533713\n",
            "  (0, 2483)\t0.3676519686797209\n",
            "  (0, 267)\t0.27010124977708766\n",
            "  (1, 16799)\t0.30071745655510157\n",
            "  (1, 6816)\t0.1904660198296849\n",
            "  (1, 5503)\t0.7143299355715573\n",
            "  (1, 3568)\t0.26373768806048464\n",
            "  (1, 2813)\t0.19094574062359204\n",
            "  (1, 2223)\t0.3827320386859759\n",
            "  (1, 1894)\t0.15521974226349364\n",
            "  (1, 1497)\t0.2939891562094648\n",
            "  (2, 15611)\t0.41544962664721613\n",
            "  (2, 9620)\t0.49351492943649944\n",
            "  (2, 5968)\t0.3474613386728292\n",
            "  (2, 5389)\t0.3866530551182615\n",
            "  (2, 3103)\t0.46097489583229645\n",
            "  :\t:\n",
            "  (20797, 13122)\t0.2482526352197606\n",
            "  (20797, 12344)\t0.27263457663336677\n",
            "  (20797, 12138)\t0.24778257724396507\n",
            "  (20797, 10306)\t0.08038079000566466\n",
            "  (20797, 9588)\t0.174553480255222\n",
            "  (20797, 9518)\t0.2954204003420313\n",
            "  (20797, 8988)\t0.36160868928090795\n",
            "  (20797, 8364)\t0.22322585870464118\n",
            "  (20797, 7042)\t0.21799048897828688\n",
            "  (20797, 3643)\t0.21155500613623743\n",
            "  (20797, 1287)\t0.33538056804139865\n",
            "  (20797, 699)\t0.30685846079762347\n",
            "  (20797, 43)\t0.29710241860700626\n",
            "  (20798, 13046)\t0.22363267488270608\n",
            "  (20798, 11052)\t0.4460515589182236\n",
            "  (20798, 10177)\t0.3192496370187028\n",
            "  (20798, 6889)\t0.32496285694299426\n",
            "  (20798, 5032)\t0.4083701450239529\n",
            "  (20798, 1125)\t0.4460515589182236\n",
            "  (20798, 588)\t0.3112141524638974\n",
            "  (20798, 350)\t0.28446937819072576\n",
            "  (20799, 14852)\t0.5677577267055112\n",
            "  (20799, 8036)\t0.45983893273780013\n",
            "  (20799, 3623)\t0.37927626273066584\n",
            "  (20799, 377)\t0.5677577267055112\n"
          ],
          "name": "stdout"
        }
      ]
    },
    {
      "cell_type": "markdown",
      "metadata": {
        "id": "M5-B8kl91jdP"
      },
      "source": [
        "(Feeding this vectorized input to the ML model)"
      ]
    },
    {
      "cell_type": "markdown",
      "metadata": {
        "id": "Okgwmms71uu_"
      },
      "source": [
        "**Splitting the dataset to training and test data**"
      ]
    },
    {
      "cell_type": "code",
      "metadata": {
        "id": "l_5VUb7W12Qp"
      },
      "source": [
        "# splitting the respective data into training data and testing data\n",
        "# here we have considered 80% of the inout data to be training data and the rest 20% data to be test data\n",
        "X_train, X_test, Y_train, Y_test = train_test_split(X, Y, test_size = 0.2, stratify=Y, random_state=2)"
      ],
      "execution_count": 42,
      "outputs": []
    },
    {
      "cell_type": "markdown",
      "metadata": {
        "id": "nR3sTQw57Bbl"
      },
      "source": [
        "**Training the Model using Logisitic Regression**"
      ]
    },
    {
      "cell_type": "code",
      "metadata": {
        "id": "7kx5NrLl7Lz2"
      },
      "source": [
        "model = LogisticRegression()"
      ],
      "execution_count": 43,
      "outputs": []
    },
    {
      "cell_type": "code",
      "metadata": {
        "colab": {
          "base_uri": "https://localhost:8080/"
        },
        "id": "Y7eHsQGH9q-I",
        "outputId": "b992d0c6-650d-492b-cd05-ddfc3fa2ef47"
      },
      "source": [
        "model.fit(X_train, Y_train)"
      ],
      "execution_count": 44,
      "outputs": [
        {
          "output_type": "execute_result",
          "data": {
            "text/plain": [
              "LogisticRegression(C=1.0, class_weight=None, dual=False, fit_intercept=True,\n",
              "                   intercept_scaling=1, l1_ratio=None, max_iter=100,\n",
              "                   multi_class='auto', n_jobs=None, penalty='l2',\n",
              "                   random_state=None, solver='lbfgs', tol=0.0001, verbose=0,\n",
              "                   warm_start=False)"
            ]
          },
          "metadata": {
            "tags": []
          },
          "execution_count": 44
        }
      ]
    },
    {
      "cell_type": "markdown",
      "metadata": {
        "id": "TltnimS699R8"
      },
      "source": [
        "**Evaluation**"
      ]
    },
    {
      "cell_type": "code",
      "metadata": {
        "id": "PNemFCKy9yya"
      },
      "source": [
        "# finding the accuracy score for training data\n",
        "X_train_prediction = model.predict(X_train)\n",
        "training_data_accuracy = accuracy_score(X_train_prediction, Y_train) # both values are compared and accuracy score is generated"
      ],
      "execution_count": 45,
      "outputs": []
    },
    {
      "cell_type": "code",
      "metadata": {
        "colab": {
          "base_uri": "https://localhost:8080/"
        },
        "id": "UZOLRwY4_Y3K",
        "outputId": "ab05b9bc-9b7b-4a53-c344-f7f77ee1f944"
      },
      "source": [
        "print('Accuracy score of the training data : ', training_data_accuracy)"
      ],
      "execution_count": 46,
      "outputs": [
        {
          "output_type": "stream",
          "text": [
            "Accuracy score of the training data :  0.9865985576923076\n"
          ],
          "name": "stdout"
        }
      ]
    },
    {
      "cell_type": "code",
      "metadata": {
        "id": "2w4jS0W-_uDe"
      },
      "source": [
        "# finding the accuracy score for test data\n",
        "X_test_prediction = model.predict(X_test)\n",
        "test_data_accuracy = accuracy_score(X_test_prediction, Y_test)"
      ],
      "execution_count": 47,
      "outputs": []
    },
    {
      "cell_type": "code",
      "metadata": {
        "colab": {
          "base_uri": "https://localhost:8080/"
        },
        "id": "_FwlLAPaAr8V",
        "outputId": "f55cfc4a-0210-40f7-e408-5bc7a30626d3"
      },
      "source": [
        "print('Accuracy score of the test data : ', test_data_accuracy)\n",
        "# accuracy score of test data is more important than accuracy score of training data because this will tell us how good our model works"
      ],
      "execution_count": 48,
      "outputs": [
        {
          "output_type": "stream",
          "text": [
            "Accuracy score of the test data :  0.9790865384615385\n"
          ],
          "name": "stdout"
        }
      ]
    },
    {
      "cell_type": "markdown",
      "metadata": {
        "id": "ygVyrV9tA2H_"
      },
      "source": [
        "**Making a Predictive System**"
      ]
    },
    {
      "cell_type": "markdown",
      "metadata": {
        "id": "S-vYYy_TBGCx"
      },
      "source": [
        "When we provide a new data to our model ,it should tell us whether it is real news or fake news"
      ]
    },
    {
      "cell_type": "code",
      "metadata": {
        "colab": {
          "base_uri": "https://localhost:8080/"
        },
        "id": "b7t1ZWnTBREL",
        "outputId": "7766d687-89de-4cc7-b032-bd96f2e5ecd8"
      },
      "source": [
        "X_new = X_test[5] # change the value of the index of X_test to test some other data\n",
        "\n",
        "prediction = model.predict(X_new)\n",
        "print(prediction)\n",
        "\n",
        "if (prediction[0]==0):\n",
        "  print('The news is Real')\n",
        "else:\n",
        "  print('The news is Fake')"
      ],
      "execution_count": 52,
      "outputs": [
        {
          "output_type": "stream",
          "text": [
            "[1]\n",
            "The news is Fake\n"
          ],
          "name": "stdout"
        }
      ]
    },
    {
      "cell_type": "code",
      "metadata": {
        "colab": {
          "base_uri": "https://localhost:8080/"
        },
        "id": "w7cgKFGrBvn9",
        "outputId": "146e25f3-aedf-4c8f-8f89-145483f656b7"
      },
      "source": [
        "# checking whether the prediction is correct\n",
        "print(Y_test[5])"
      ],
      "execution_count": 53,
      "outputs": [
        {
          "output_type": "stream",
          "text": [
            "1\n"
          ],
          "name": "stdout"
        }
      ]
    }
  ]
}